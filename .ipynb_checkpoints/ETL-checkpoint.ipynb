{
 "cells": [
  {
   "cell_type": "code",
   "execution_count": 1,
   "id": "549d7bac",
   "metadata": {},
   "outputs": [],
   "source": [
    "import pandas as pd"
   ]
  },
  {
   "cell_type": "code",
   "execution_count": 2,
   "id": "3b79db16",
   "metadata": {},
   "outputs": [
    {
     "data": {
      "text/plain": [
       "['crowdfunding_info', 'contact_info']"
      ]
     },
     "execution_count": 2,
     "metadata": {},
     "output_type": "execute_result"
    }
   ],
   "source": [
    "# Read the data into a Pandas DataFrame\n",
    "crowdfunding_data = pd.ExcelFile(\"crowdfunding.xlsx\")\n",
    "# Get the sheet names.\n",
    "crowdfunding_data.sheet_names"
   ]
  },
  {
   "cell_type": "code",
   "execution_count": 7,
   "id": "9602ceba",
   "metadata": {},
   "outputs": [
    {
     "data": {
      "text/html": [
       "<div>\n",
       "<style scoped>\n",
       "    .dataframe tbody tr th:only-of-type {\n",
       "        vertical-align: middle;\n",
       "    }\n",
       "\n",
       "    .dataframe tbody tr th {\n",
       "        vertical-align: top;\n",
       "    }\n",
       "\n",
       "    .dataframe thead th {\n",
       "        text-align: right;\n",
       "    }\n",
       "</style>\n",
       "<table border=\"1\" class=\"dataframe\">\n",
       "  <thead>\n",
       "    <tr style=\"text-align: right;\">\n",
       "      <th></th>\n",
       "      <th>cf_id</th>\n",
       "      <th>company_name</th>\n",
       "      <th>blurb</th>\n",
       "      <th>goal</th>\n",
       "      <th>pledged</th>\n",
       "      <th>outcome</th>\n",
       "      <th>backers_count</th>\n",
       "      <th>country</th>\n",
       "      <th>currency</th>\n",
       "      <th>launched_at</th>\n",
       "      <th>deadline</th>\n",
       "      <th>staff_pick</th>\n",
       "      <th>spotlight</th>\n",
       "      <th>category &amp; sub-category</th>\n",
       "    </tr>\n",
       "  </thead>\n",
       "  <tbody>\n",
       "    <tr>\n",
       "      <th>402</th>\n",
       "      <td>1509</td>\n",
       "      <td>Ruiz, Richardson and Cole</td>\n",
       "      <td>Team-oriented static interface</td>\n",
       "      <td>7300</td>\n",
       "      <td>2946</td>\n",
       "      <td>failed</td>\n",
       "      <td>40</td>\n",
       "      <td>US</td>\n",
       "      <td>USD</td>\n",
       "      <td>1603861200</td>\n",
       "      <td>1618894800</td>\n",
       "      <td>False</td>\n",
       "      <td>True</td>\n",
       "      <td>film &amp; video/shorts</td>\n",
       "    </tr>\n",
       "    <tr>\n",
       "      <th>222</th>\n",
       "      <td>1558</td>\n",
       "      <td>Johnson LLC</td>\n",
       "      <td>Cross-group cohesive circuit</td>\n",
       "      <td>4800</td>\n",
       "      <td>6623</td>\n",
       "      <td>successful</td>\n",
       "      <td>138</td>\n",
       "      <td>US</td>\n",
       "      <td>USD</td>\n",
       "      <td>1608271200</td>\n",
       "      <td>1619499600</td>\n",
       "      <td>False</td>\n",
       "      <td>False</td>\n",
       "      <td>photography/photography books</td>\n",
       "    </tr>\n",
       "    <tr>\n",
       "      <th>560</th>\n",
       "      <td>670</td>\n",
       "      <td>Hunt LLC</td>\n",
       "      <td>Re-engineered radical policy</td>\n",
       "      <td>20000</td>\n",
       "      <td>158832</td>\n",
       "      <td>successful</td>\n",
       "      <td>3177</td>\n",
       "      <td>US</td>\n",
       "      <td>USD</td>\n",
       "      <td>1624251600</td>\n",
       "      <td>1644213600</td>\n",
       "      <td>False</td>\n",
       "      <td>False</td>\n",
       "      <td>film &amp; video/animation</td>\n",
       "    </tr>\n",
       "    <tr>\n",
       "      <th>90</th>\n",
       "      <td>656</td>\n",
       "      <td>Kramer Group</td>\n",
       "      <td>Synergistic explicit parallelism</td>\n",
       "      <td>7800</td>\n",
       "      <td>6132</td>\n",
       "      <td>failed</td>\n",
       "      <td>106</td>\n",
       "      <td>US</td>\n",
       "      <td>USD</td>\n",
       "      <td>1633755600</td>\n",
       "      <td>1636956000</td>\n",
       "      <td>False</td>\n",
       "      <td>True</td>\n",
       "      <td>theater/plays</td>\n",
       "    </tr>\n",
       "    <tr>\n",
       "      <th>620</th>\n",
       "      <td>2339</td>\n",
       "      <td>Swanson, Wilson and Baker</td>\n",
       "      <td>Synergized well-modulated project</td>\n",
       "      <td>4300</td>\n",
       "      <td>11525</td>\n",
       "      <td>successful</td>\n",
       "      <td>128</td>\n",
       "      <td>AU</td>\n",
       "      <td>AUD</td>\n",
       "      <td>1614232800</td>\n",
       "      <td>1620363600</td>\n",
       "      <td>False</td>\n",
       "      <td>False</td>\n",
       "      <td>photography/photography books</td>\n",
       "    </tr>\n",
       "  </tbody>\n",
       "</table>\n",
       "</div>"
      ],
      "text/plain": [
       "     cf_id               company_name                              blurb  \\\n",
       "402   1509  Ruiz, Richardson and Cole     Team-oriented static interface   \n",
       "222   1558                Johnson LLC       Cross-group cohesive circuit   \n",
       "560    670                   Hunt LLC       Re-engineered radical policy   \n",
       "90     656               Kramer Group   Synergistic explicit parallelism   \n",
       "620   2339  Swanson, Wilson and Baker  Synergized well-modulated project   \n",
       "\n",
       "      goal  pledged     outcome  backers_count country currency  launched_at  \\\n",
       "402   7300     2946      failed             40      US      USD   1603861200   \n",
       "222   4800     6623  successful            138      US      USD   1608271200   \n",
       "560  20000   158832  successful           3177      US      USD   1624251600   \n",
       "90    7800     6132      failed            106      US      USD   1633755600   \n",
       "620   4300    11525  successful            128      AU      AUD   1614232800   \n",
       "\n",
       "       deadline  staff_pick  spotlight        category & sub-category  \n",
       "402  1618894800       False       True            film & video/shorts  \n",
       "222  1619499600       False      False  photography/photography books  \n",
       "560  1644213600       False      False         film & video/animation  \n",
       "90   1636956000       False       True                  theater/plays  \n",
       "620  1620363600       False      False  photography/photography books  "
      ]
     },
     "execution_count": 7,
     "metadata": {},
     "output_type": "execute_result"
    }
   ],
   "source": [
    "# Get the crowdfunding_info from the crowdfunding_info worksheet. \n",
    "crowdfunding_info_df = pd.read_excel(crowdfunding_data, sheet_name='crowdfunding_info')\n",
    "crowdfunding_info_df.sample(n=5)\n"
   ]
  },
  {
   "cell_type": "code",
   "execution_count": 6,
   "id": "8077ee6c",
   "metadata": {},
   "outputs": [
    {
     "data": {
      "text/html": [
       "<div>\n",
       "<style scoped>\n",
       "    .dataframe tbody tr th:only-of-type {\n",
       "        vertical-align: middle;\n",
       "    }\n",
       "\n",
       "    .dataframe tbody tr th {\n",
       "        vertical-align: top;\n",
       "    }\n",
       "\n",
       "    .dataframe thead th {\n",
       "        text-align: right;\n",
       "    }\n",
       "</style>\n",
       "<table border=\"1\" class=\"dataframe\">\n",
       "  <thead>\n",
       "    <tr style=\"text-align: right;\">\n",
       "      <th></th>\n",
       "      <th></th>\n",
       "    </tr>\n",
       "  </thead>\n",
       "  <tbody>\n",
       "    <tr>\n",
       "      <th>863</th>\n",
       "      <td>{\"contact_id\": 1729, \"name\": \"Felix Rubio\", \"email\": \"felix.rubio@ebert.de\"}</td>\n",
       "    </tr>\n",
       "    <tr>\n",
       "      <th>116</th>\n",
       "      <td>{\"contact_id\": 6026, \"name\": \"Laura Buckley\", \"email\": \"laura.buckley@ryan.org\"}</td>\n",
       "    </tr>\n",
       "    <tr>\n",
       "      <th>294</th>\n",
       "      <td>{\"contact_id\": 1906, \"name\": \"Kaitlyn Farinelli\", \"email\": \"kaitlyn.farinelli@outlook.com\"}</td>\n",
       "    </tr>\n",
       "    <tr>\n",
       "      <th>374</th>\n",
       "      <td>{\"contact_id\": 5967, \"name\": \"Franck Wade\", \"email\": \"franck.wade@gute.org\"}</td>\n",
       "    </tr>\n",
       "    <tr>\n",
       "      <th>531</th>\n",
       "      <td>{\"contact_id\": 2354, \"name\": \"Edelgard Kreusel\", \"email\": \"edelgard.kreusel@hotmail.com\"}</td>\n",
       "    </tr>\n",
       "  </tbody>\n",
       "</table>\n",
       "</div>"
      ],
      "text/plain": [
       "                                                                                                \n",
       "863                 {\"contact_id\": 1729, \"name\": \"Felix Rubio\", \"email\": \"felix.rubio@ebert.de\"}\n",
       "116             {\"contact_id\": 6026, \"name\": \"Laura Buckley\", \"email\": \"laura.buckley@ryan.org\"}\n",
       "294  {\"contact_id\": 1906, \"name\": \"Kaitlyn Farinelli\", \"email\": \"kaitlyn.farinelli@outlook.com\"}\n",
       "374                 {\"contact_id\": 5967, \"name\": \"Franck Wade\", \"email\": \"franck.wade@gute.org\"}\n",
       "531    {\"contact_id\": 2354, \"name\": \"Edelgard Kreusel\", \"email\": \"edelgard.kreusel@hotmail.com\"}"
      ]
     },
     "execution_count": 6,
     "metadata": {},
     "output_type": "execute_result"
    }
   ],
   "source": [
    "# Get the contact_info from the contact_info worksheet.\n",
    "# Increase the width of the column.\n",
    "pd.set_option('max_colwidth', 400)\n",
    "contact_info_df = pd.read_excel(crowdfunding_data, sheet_name='contact_info', header=2)\n",
    "contact_info_df.sample(n=5)\n"
   ]
  },
  {
   "cell_type": "code",
   "execution_count": 8,
   "id": "f7052c21",
   "metadata": {},
   "outputs": [
    {
     "name": "stdout",
     "output_type": "stream",
     "text": [
      "<class 'pandas.core.frame.DataFrame'>\n",
      "RangeIndex: 1000 entries, 0 to 999\n",
      "Data columns (total 14 columns):\n",
      " #   Column                   Non-Null Count  Dtype \n",
      "---  ------                   --------------  ----- \n",
      " 0   cf_id                    1000 non-null   int64 \n",
      " 1   company_name             1000 non-null   object\n",
      " 2   blurb                    1000 non-null   object\n",
      " 3   goal                     1000 non-null   int64 \n",
      " 4   pledged                  1000 non-null   int64 \n",
      " 5   outcome                  1000 non-null   object\n",
      " 6   backers_count            1000 non-null   int64 \n",
      " 7   country                  1000 non-null   object\n",
      " 8   currency                 1000 non-null   object\n",
      " 9   launched_at              1000 non-null   int64 \n",
      " 10  deadline                 1000 non-null   int64 \n",
      " 11  staff_pick               1000 non-null   bool  \n",
      " 12  spotlight                1000 non-null   bool  \n",
      " 13  category & sub-category  1000 non-null   object\n",
      "dtypes: bool(2), int64(6), object(6)\n",
      "memory usage: 95.8+ KB\n"
     ]
    }
   ],
   "source": [
    "# Get a brief summary of the crowdfunding_info DataFrame. \n",
    "crowdfunding_info_df.info()"
   ]
  },
  {
   "cell_type": "code",
   "execution_count": 9,
   "id": "c0534307",
   "metadata": {},
   "outputs": [
    {
     "name": "stdout",
     "output_type": "stream",
     "text": [
      "<class 'pandas.core.frame.DataFrame'>\n",
      "RangeIndex: 1001 entries, 0 to 1000\n",
      "Data columns (total 1 columns):\n",
      " #   Column  Non-Null Count  Dtype \n",
      "---  ------  --------------  ----- \n",
      " 0           1001 non-null   object\n",
      "dtypes: object(1)\n",
      "memory usage: 7.9+ KB\n"
     ]
    }
   ],
   "source": [
    "# Get a brief summary of the contact_info DataFrame. \n",
    "contact_info_df.info()"
   ]
  },
  {
   "cell_type": "code",
   "execution_count": null,
   "id": "cdcfe42a",
   "metadata": {},
   "outputs": [],
   "source": []
  }
 ],
 "metadata": {
  "kernelspec": {
   "display_name": "PythonData",
   "language": "python",
   "name": "pythondata"
  },
  "language_info": {
   "codemirror_mode": {
    "name": "ipython",
    "version": 3
   },
   "file_extension": ".py",
   "mimetype": "text/x-python",
   "name": "python",
   "nbconvert_exporter": "python",
   "pygments_lexer": "ipython3",
   "version": "3.8.15"
  }
 },
 "nbformat": 4,
 "nbformat_minor": 5
}
